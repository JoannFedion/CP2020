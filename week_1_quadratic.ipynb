{
 "cells": [
  {
   "cell_type": "markdown",
   "metadata": {},
   "source": [
    "## Solve a quadratic equation, $x^2 + b x + c = 0$.\n",
    "\n",
    "\n",
    "Write a function which receives $b$ and $c$, the coefficients of a monic quadratic polynomial, $x^2 + b x + c$, and returns the pair of its roots. Your function should always return two values, even if quadratic has a double root.\n",
    "\n",
    "For example, given a quadratic $x^2 - 2x + 1$, your function should return a pair of $(1, 1)$. Of course, in floating point, your answers may differ from an exact unity.\n",
    "\n",
    "Your function also must correctly handle complex roots (to this end, you might need the `cmath` module from the standard library)."
   ]
  },
  {
   "cell_type": "markdown",
   "metadata": {},
   "source": [
    "Сейчас распишем два способ\n",
    "а разложения корней при больших b или c "
   ]
  },
  {
   "cell_type": "markdown",
   "metadata": {},
   "source": [
    "$\\sqrt{1-x} = 1 - \\dfrac{x}{2}$ ; $\\sqrt{(b^2 - 4c)} = |b| (1-\\dfrac{4c}{b^2}) = |b| - \\dfrac{4c}{|b|}$ "
   ]
  },
  {
   "cell_type": "markdown",
   "metadata": {},
   "source": [
    "$\\sqrt{(b^2-4c)} = \\sqrt{-4c} \\cdot \\sqrt{\\left(1-\\dfrac{b^2}{4c}\\right)} = \\sqrt{-4c} \\cdot \\left(1 - \\dfrac{b^2}{8c}\\right)$"
   ]
  },
  {
   "cell_type": "code",
   "execution_count": 26,
   "metadata": {},
   "outputs": [],
   "source": [
    "import numpy as np\n",
    "def solve_quad(b, c):\n",
    "    D = b**2 - 4*c\n",
    "    #этот случай соответствует тому, что b>>c так, что величина 4c/b^2 = 0, тогда у нас есть ошибка при вычислении корня\n",
    "    #чтобы этого избежать раскладываем корень \n",
    "    if 1 + np.absolute(4*c/b**2) == 1 and c != 0:\n",
    "        x1 = (-b + np.absolute(b) - 2*c/np.absolute(b))/2\n",
    "        x2 = (-b - np.absolute(b) + 2*c/np.absolute(b))/2\n",
    "    else:\n",
    "        #этот случай соответствует тому, что c>>b так, что величмна b^2/4c = 0, тогда у нас также есть ошибка при вычислении корня\n",
    "    \n",
    "        if 1 + np.absolute(b**2/(4*c)) == 1 and c != 0:\n",
    "            x1 = (-b + (-4*c)**0.5 - (-4*c)**0.5*b**2/(8*c))/2\n",
    "            x2 = (-b - (-4*c)**0.5 + (-4*c)**0.5*b**2/(8*c))/2\n",
    "        #этот случай для простых корней, когда b и c так соотносятся, что python нормально считает дискриминант\n",
    "        else:\n",
    "            x1 = (-b + (b**2 - 4*c)**(0.5)) / 2\n",
    "            x2 = (-b - (b**2 - 4*c)**(0.5)) / 2\n",
    "    return x1,x2\n"
   ]
  },
  {
   "cell_type": "markdown",
   "metadata": {},
   "source": [
    "Test the your function on several examples against a calculation by hand. Once you're sure that your function works, try these five test cases below. \n",
    "\n",
    "Note that the last two test cases are special: they test whether your function handles extreme cases where a too simple approach is prone to a catastrophic cancellation. Make sure your function passes all five tests.\n",
    "\n",
    "This exercise is graded, each test case contributes a 20% of the grade. "
   ]
  },
  {
   "cell_type": "code",
   "execution_count": 27,
   "metadata": {},
   "outputs": [],
   "source": [
    "from numpy import allclose"
   ]
  },
  {
   "cell_type": "code",
   "execution_count": 28,
   "metadata": {},
   "outputs": [],
   "source": [
    "variants = [{'b': 4.0, 'c': 3.0},\n",
    "            {'b': 2.0, 'c': 1.0},\n",
    "            {'b': 0.5, 'c': 4.0},\n",
    "            {'b': 1e10, 'c': 3.0},\n",
    "            {'b': -1e10, 'c': 4.0},]"
   ]
  },
  {
   "cell_type": "code",
   "execution_count": 29,
   "metadata": {},
   "outputs": [
    {
     "name": "stdout",
     "output_type": "stream",
     "text": [
      "True (-1.0, -3.0)\n",
      "True (-1.0, -1.0)\n",
      "True ((-0.2499999999999999+1.984313483298443j), (-0.2500000000000001-1.984313483298443j))\n",
      "True (-3e-10, -10000000000.0)\n",
      "True (10000000000.0, 4e-10)\n"
     ]
    }
   ],
   "source": [
    "for var in variants:\n",
    "    x1, x2 = solve_quad(**var)\n",
    "    print(allclose(x1*x2, var['c']), solve_quad(**var))"
   ]
  },
  {
   "cell_type": "markdown",
   "metadata": {
    "collapsed": true
   },
   "source": [
    "В нашем коде рассмотрены все 3 возможные случаи, когда \n",
    "1) b>>c\n",
    "2) b<<c\n",
    "3) b и c несильно отличаются"
   ]
  },
  {
   "cell_type": "code",
   "execution_count": null,
   "metadata": {},
   "outputs": [],
   "source": []
  }
 ],
 "metadata": {
  "kernelspec": {
   "display_name": "Python 3",
   "language": "python",
   "name": "python3"
  },
  "language_info": {
   "codemirror_mode": {
    "name": "ipython",
    "version": 3
   },
   "file_extension": ".py",
   "mimetype": "text/x-python",
   "name": "python",
   "nbconvert_exporter": "python",
   "pygments_lexer": "ipython3",
   "version": "3.7.3"
  }
 },
 "nbformat": 4,
 "nbformat_minor": 2
}
