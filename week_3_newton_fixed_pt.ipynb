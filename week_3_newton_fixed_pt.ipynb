{
 "cells": [
  {
   "cell_type": "markdown",
   "metadata": {},
   "source": [
    "# Part I. Root-finding. Newton's iteration."
   ]
  },
  {
   "cell_type": "markdown",
   "metadata": {},
   "source": [
    "Write a function which performs Newton's iteration for a given function $f(x)$ with known derivative $f'(x)$. Your function should find the root of $f(x)$ with a predefined absolute accuracy $\\epsilon$. "
   ]
  },
  {
   "cell_type": "code",
   "execution_count": null,
   "metadata": {},
   "outputs": [],
   "source": [
    "def newton_iteration(f, fder, x0, eps=1e-5, maxiter=1000):\n",
    "    \"\"\"Find a root of $f(x) = 0$ via Newton's iteration starting from x0.\n",
    "    \n",
    "    Parameters\n",
    "    ----------\n",
    "    f : callable\n",
    "        The function to find a root of.\n",
    "    fder : callable\n",
    "        The derivative of `f`.\n",
    "    x0 : float\n",
    "        Initial value for the Newton's iteration.\n",
    "    eps : float\n",
    "        The target accuracy. \n",
    "        The iteration stops when the distance between successive iterates is below `eps`.\n",
    "        Default is 1e-5.\n",
    "    maxiter : int\n",
    "        The maximum number of iterations (default is 1000.)\n",
    "        Iterations terminate if the number of iterations exceeds `maxiter`.\n",
    "        This parameter is only needed to avoid infinite loops if iterations wander off.\n",
    "        \n",
    "    Returns\n",
    "    -------\n",
    "    x : float\n",
    "        The estimate for the root.\n",
    "    niter : int\n",
    "        The number of iterations.\n",
    "    \"\"\"\n",
    "    # ... ENTER YOUR CODE HERE ..."
   ]
  },
  {
   "cell_type": "markdown",
   "metadata": {},
   "source": [
    "Сейчас создадим приближения ньютоновским способом: \n",
    "$x_n = x_{n-1} - \\dfrac{f(x_{n-1})}{f'(x_{n-1})}$\n",
    "\n",
    "\n",
    "Процесс приближения останавливается, когда:\n",
    "$|x_n - x_{n-1}| < \\epsilon$"
   ]
  },
  {
   "cell_type": "code",
   "execution_count": 338,
   "metadata": {},
   "outputs": [],
   "source": [
    "import numpy as np\n",
    "def new_it(f, fder, x0, eps=1e-5, maxiter=1000):\n",
    "    n = 0\n",
    "    x_n = x0 - f(x0)/fder(x0)#приближение Ньютона\n",
    "    x_0 = x0\n",
    "    while np.abs(x_n - x_0) > eps and n < maxiter: #критерий остановки метода\n",
    "        x_0 = x_n \n",
    "        x_n = x_n - f(x_n)/fder(x_n)\n",
    "        n = n + 1\n",
    "    return x_n,n"
   ]
  },
  {
   "cell_type": "markdown",
   "metadata": {},
   "source": [
    "### Test I.1 \n",
    "\n",
    "Test your implementation on a simple example, $f(x) = x^2 - 1$ or similar. (20% of the total grade)"
   ]
  },
  {
   "cell_type": "markdown",
   "metadata": {},
   "source": [
    "Создадим функцию $f(x) = x^2 - 1$"
   ]
  },
  {
   "cell_type": "code",
   "execution_count": 339,
   "metadata": {},
   "outputs": [],
   "source": [
    "def f(x):\n",
    "    return x**2 - 1"
   ]
  },
  {
   "cell_type": "markdown",
   "metadata": {},
   "source": [
    "Создадим производную $f'(x) = 2x$"
   ]
  },
  {
   "cell_type": "code",
   "execution_count": 340,
   "metadata": {},
   "outputs": [],
   "source": [
    "def fder(x):\n",
    "    return 2*x"
   ]
  },
  {
   "cell_type": "code",
   "execution_count": 346,
   "metadata": {},
   "outputs": [
    {
     "name": "stdout",
     "output_type": "stream",
     "text": [
      "Корень уравнения : x = 1.0\n",
      "Количество итерация : n = 5\n"
     ]
    }
   ],
   "source": [
    "print(\"Корень уравнения : x =\" ,new_it(f, fder, 2, eps=1e-10, maxiter=1000)[0])\n",
    "print(\"Количество итераций : n =\", new_it(f, fder, 2, eps=1e-10, maxiter=1000)[1])"
   ]
  },
  {
   "cell_type": "code",
   "execution_count": 388,
   "metadata": {},
   "outputs": [
    {
     "name": "stdout",
     "output_type": "stream",
     "text": [
      "Корень уравнения : x = -1.0000000000597362\n",
      "Количество итераций : n = 34\n"
     ]
    }
   ],
   "source": [
    "print(\"Корень уравнения : x =\" ,new_it(f, fder, -2, eps=1e-10, maxiter=1000)[0])\n",
    "print(\"Количество итераций : n =\", new_it(f, fder, -2, eps=1e-10, maxiter=1000)[1])"
   ]
  },
  {
   "cell_type": "markdown",
   "metadata": {},
   "source": [
    "Можно заметить, что этот метод дает только один корень(к которому мы находимся ближе)"
   ]
  },
  {
   "cell_type": "markdown",
   "metadata": {},
   "source": [
    "### Test I.2\n",
    "\n",
    "Now consider a function which has a multiple root. Take $f(x) = (x^2 - 1)^2$ as an example. Implement a modified Newton's iteraion,\n",
    "\n",
    "$$\n",
    "x_{n+1} = x_{n} - m \\frac{f(x_n)}{f'(x_n)}\n",
    "$$\n",
    "\n",
    "and vary $m= 1, 2, 3, 4, 5$. Check the number of iterations required for convergence within a fixed $\\epsilon$. Are your observations consistent with the expectation that the convergence is quadratic is $m$ equals the multiplicity of the root, and is linear otherwise? (40% of the total grade)"
   ]
  },
  {
   "cell_type": "code",
   "execution_count": 354,
   "metadata": {},
   "outputs": [],
   "source": [
    "def new(m,f, fder, x0, eps=1e-5, maxiter=1000):\n",
    "    x_0 = x0\n",
    "    n = 0\n",
    "    x_n = x0 - m*f(x0)/fder(x0) #тут все делается также, как и раньше, только критерий остановки будет немного другой\n",
    "    while np.abs(x_n - x_0) > eps and n < maxiter and fder(x_n) !=0: #тут следует добавить ограничение на ноль произодной\n",
    "                                                                     #потому что в нашем случае обнуление производной говорит\n",
    "                                                                     #об нахождении корня. Все остальное анологично\n",
    "        x_0 = x_n\n",
    "        x_n = x_n - m * f(x_n)/fder(x_n)\n",
    "        n = n + 1\n",
    "    return x_n, n"
   ]
  },
  {
   "cell_type": "code",
   "execution_count": 355,
   "metadata": {},
   "outputs": [],
   "source": [
    "def f(x):\n",
    "    return (x**2-1)**2"
   ]
  },
  {
   "cell_type": "code",
   "execution_count": 356,
   "metadata": {},
   "outputs": [],
   "source": [
    "def fder(x):\n",
    "    return 4*x*(x**2-1)"
   ]
  },
  {
   "cell_type": "code",
   "execution_count": 357,
   "metadata": {},
   "outputs": [
    {
     "name": "stdout",
     "output_type": "stream",
     "text": [
      "m = 1\n",
      "Корень уравнения: x =  1.0000000000608014\n",
      "Количество итераций: n = 48\n",
      "m = 2\n",
      "Корень уравнения: x =  1.0\n",
      "Количество итераций: n = 10\n",
      "m = 3\n",
      "Корень уравнения: x =  1.000000000017601\n",
      "Количество итераций: n = 36\n",
      "m = 4\n",
      "Корень уравнения: x =  0.010000000000019327\n",
      "Количество итераций: n = 1000\n",
      "m = 5\n",
      "Корень уравнения: x =  -13.702575417504164\n",
      "Количество итераций: n = 1000\n"
     ]
    }
   ],
   "source": [
    "for i in range(1,6):\n",
    "    print(\"m =\", i)\n",
    "    print(\"Корень уравнения: x = \",new(i,f, fder, 100, eps=1e-10, maxiter=1000)[0])\n",
    "    print(\"Количество итераций: n =\", new(i,f, fder, 100, eps=1e-10, maxiter=1000)[1])"
   ]
  },
  {
   "cell_type": "markdown",
   "metadata": {
    "collapsed": true
   },
   "source": [
    "Можно увидеть, что в нашем случае кратность корня равна 2. Это согласуется с практикой. При $m=2$ корень находится быстрее    всего( количество итераций минимально). При больших $m$ метод не будет сходиться,так как будет вечно \"промахиваться\"."
   ]
  },
  {
   "cell_type": "markdown",
   "metadata": {},
   "source": [
    "# Part II. Fixed-point iteration"
   ]
  },
  {
   "cell_type": "markdown",
   "metadata": {},
   "source": [
    "Consider the following equation:\n",
    "\n",
    "$$\n",
    "\\sqrt{x} = \\cos{x}\n",
    "$$\n",
    "\n",
    "Plot the left-hand side and right-hand side of this equation, and localize the root graphically. Estimate the location of the root by visual inspection of the plot.\n",
    "\n",
    "Write a function which finds the solution using fixed-point iteration up to a predefined accuracy $\\epsilon$. Compare the result to an estimate from a visual inspection.\n",
    "\n",
    "Next, rewrite the fixed-point problem in the form\n",
    "\n",
    "$$\n",
    "x = x - \\alpha f(x)\n",
    "$$\n",
    "\n",
    "where $\\alpha$ is the free parameter. Check the dependence of the number of iterations required for a given $\\epsilon$ on $\\alpha$. Compare your results to an expectation that the optimal value of $\\alpha$ is given by \n",
    "\n",
    "$$\n",
    "\\alpha = \\frac{2}{m + M}\n",
    "$$\n",
    "\n",
    "where $0 < m < |f'(x)| < M$ over the localization interval. (40% of the total grade)"
   ]
  },
  {
   "cell_type": "code",
   "execution_count": 60,
   "metadata": {},
   "outputs": [],
   "source": [
    "def f1(x): #создаем функцию, которая при подстановке корня будет давать 0\n",
    "    return np.sqrt(x) - np.cos(x) "
   ]
  },
  {
   "cell_type": "code",
   "execution_count": 68,
   "metadata": {},
   "outputs": [],
   "source": [
    "import matplotlib.pyplot as plt"
   ]
  },
  {
   "cell_type": "code",
   "execution_count": 359,
   "metadata": {
    "scrolled": false
   },
   "outputs": [
    {
     "data": {
      "text/plain": [
       "[<matplotlib.lines.Line2D at 0x122f17898>]"
      ]
     },
     "execution_count": 359,
     "metadata": {},
     "output_type": "execute_result"
    },
    {
     "data": {
      "image/png": "[encoded data removed]",
      "text/plain": [
       "<Figure size 432x288 with 1 Axes>"
      ]
     },
     "metadata": {
      "needs_background": "light"
     },
     "output_type": "display_data"
    }
   ],
   "source": [
    "plt.figure()\n",
    "x = np.linspace(0,3,1000)\n",
    "plt.plot(x,np.sqrt(x))\n",
    "plt.plot(x,np.cos(x))"
   ]
  },
  {
   "cell_type": "markdown",
   "metadata": {},
   "source": [
    "Из графика видно, что корень находится в интервале $(0,1)$"
   ]
  },
  {
   "cell_type": "markdown",
   "metadata": {},
   "source": [
    "\\begin{equation} \n",
    "    \\phi(x) = x - \\alpha f(x) \\\\\n",
    "    f(x) = \\sqrt{x} - \\cos(x) \\Longrightarrow x_n = x_{n-1} - \\alpha * f(x_{n-1})\n",
    "\\end{equation}\n",
    "\n"
   ]
  },
  {
   "cell_type": "markdown",
   "metadata": {},
   "source": [
    "Создадим функцию $\\phi(x)$, которая будет устроена по тому же принципу, что и раньше"
   ]
  },
  {
   "cell_type": "code",
   "execution_count": 319,
   "metadata": {},
   "outputs": [],
   "source": [
    "def iter1(x0,a,eps=1e-5,maxiter = 1000):\n",
    "    x_0 =x0\n",
    "    x_n = x_0 - a*(np.sqrt(x_0) - np.cos(x_0))\n",
    "    n = 0\n",
    "    while np.abs(x_n - x_0) > eps and n < maxiter:\n",
    "        x_0 = x_n\n",
    "        x_n = x_n - a*(np.sqrt(x_n) - np.cos(x_n))\n",
    "        n = n+1\n",
    "    return x_n,n"
   ]
  },
  {
   "cell_type": "code",
   "execution_count": 362,
   "metadata": {},
   "outputs": [
    {
     "name": "stderr",
     "output_type": "stream",
     "text": [
      "//anaconda3/lib/python3.7/site-packages/ipykernel_launcher.py:7: RuntimeWarning: invalid value encountered in sqrt\n",
      "  import sys\n"
     ]
    },
    {
     "data": {
      "text/plain": [
       "[<matplotlib.lines.Line2D at 0x1232e9a58>]"
      ]
     },
     "execution_count": 362,
     "metadata": {},
     "output_type": "execute_result"
    },
    {
     "data": {
      "image/png": "[encoded data removed]",
      "text/plain": [
       "<Figure size 432x288 with 1 Axes>"
      ]
     },
     "metadata": {
      "needs_background": "light"
     },
     "output_type": "display_data"
    }
   ],
   "source": [
    "x = np.linspace(0.1,3,100) #начинаем не с 0, чтобы nan производная не выдала\n",
    "y = [iter1(2,x[i])[1] for i in range(len(x))]\n",
    "plt.figure()\n",
    "plt.plot(x,y)"
   ]
  },
  {
   "cell_type": "markdown",
   "metadata": {},
   "source": [
    "Видим, что при значениях $a$\n",
    "$$\n",
    "a:(a> ~1.2)\n",
    "$$  \n",
    "Начинает все ломаться, проверим, что происходит в этот момент"
   ]
  },
  {
   "cell_type": "code",
   "execution_count": 363,
   "metadata": {},
   "outputs": [],
   "source": [
    "def iter1(x0,a,eps=1e-5,maxiter = 1000):\n",
    "    x_0 =x0\n",
    "    x_n = x_0 - a*(np.sqrt(x_0) - np.cos(x_0))\n",
    "    n = 0\n",
    "    while np.abs(x_n - x_0) > eps and n < maxiter:\n",
    "        print(x_n)\n",
    "        x_0 = x_n\n",
    "        x_n = x_n - a*(np.sqrt(x_n) - np.cos(x_n))\n",
    "        n = n+1\n",
    "    return x_n,n"
   ]
  },
  {
   "cell_type": "code",
   "execution_count": 366,
   "metadata": {},
   "outputs": [
    {
     "name": "stdout",
     "output_type": "stream",
     "text": [
      "1.8169639601079761\n",
      "1.6578002621817336\n",
      "1.5203552484441434\n",
      "1.4020945311508335\n",
      "1.3004747301157031\n",
      "1.2131405080542828\n",
      "1.1380057857523191\n",
      "1.0732689999730163\n",
      "1.0173957131036118\n",
      "0.9690880083049415\n",
      "0.9272508990270537\n",
      "0.8909605766113903\n",
      "0.8594363984978309\n",
      "0.83201705445218\n",
      "0.8081406796354953\n",
      "0.7873284267817058\n",
      "0.7691709538570634\n",
      "0.7533173170999211\n",
      "0.7394658261599422\n",
      "0.7273564913501813\n",
      "0.7167647610700609\n",
      "0.7074963060346888\n",
      "0.6993826553797353\n",
      "0.6922775288454339\n",
      "0.6860537404476882\n",
      "0.6806005737485804\n",
      "0.6758215483366586\n",
      "0.6716325125125948\n",
      "0.6679600093374337\n",
      "0.6647398728456047\n",
      "0.6619160189072103\n",
      "0.6594394013744889\n",
      "0.6572671090989078\n",
      "0.655361583415319\n",
      "0.6536899389566365\n",
      "0.652223373340243\n",
      "0.6509366534749941\n",
      "0.6498076680681197\n",
      "0.648817037437151\n",
      "0.6479477730103634\n",
      "0.6471849799753144\n",
      "0.6465155974448125\n",
      "0.6459281712818714\n",
      "0.6454126553830541\n",
      "0.6449602377818863\n",
      "0.6445631884160342\n",
      "0.64421472581626\n",
      "0.6439089003321478\n",
      "0.6436404918178356\n",
      "0.6434049199676504\n",
      "0.6431981657226256\n",
      "0.6430167023694351\n",
      "0.64285743512757\n",
      "0.6427176481722264\n",
      "0.6425949581724588\n",
      "0.6424872735392939\n",
      "0.6423927586789709\n",
      "0.6423098026341891\n",
      "0.6422369915728833\n",
      "0.6421730846510434\n",
      "0.6421169928346864\n",
      "0.6420677603173561\n",
      "0.6420245482144051\n",
      "0.6419866202546005\n",
      "0.6419533302240161\n",
      "0.6419241109473189\n",
      "0.6418984646179827\n",
      "0.6418759543121152\n",
      "0.6418561965408857\n",
      "0.6418388547143383\n",
      "0.6418236334049812\n",
      "0.6418102733132276\n",
      "0.6417985468487717\n",
      "0.6417882542525056\n",
      "1.7633473423618278\n",
      "1.566915920324774\n",
      "1.4055732487920471\n",
      "1.2735527080601987\n",
      "1.1655113847882939\n",
      "1.0769059201669253\n",
      "1.0040253286044225\n",
      "0.9438911997969306\n",
      "0.8941264244717321\n",
      "0.8528325338206879\n",
      "0.8184875671928814\n",
      "0.7898651133371496\n",
      "0.7659714655136547\n",
      "0.7459971668056244\n",
      "0.7292796183164004\n",
      "0.7152740794896516\n",
      "0.7035310161173394\n",
      "0.6936782643520724\n",
      "0.6854068723535398\n",
      "0.6784597737049569\n",
      "0.6726226612394867\n",
      "0.6677165865223673\n",
      "0.6635919247417498\n",
      "0.6601234289364212\n",
      "0.657206159854899\n",
      "0.6547521243858317\n",
      "0.6526874907474618\n",
      "0.6509502755424771\n",
      "0.6494884185586176\n",
      "0.6482581773895972\n",
      "0.6472227866945682\n",
      "0.6463513370301206\n",
      "0.6456178362819162\n",
      "0.6450004232435733\n",
      "0.6444807081766362\n",
      "0.6440432194944198\n",
      "0.6436749392415614\n",
      "0.643364912943251\n",
      "0.6431039217931651\n",
      "0.6428842071316698\n",
      "0.6426992388111967\n",
      "0.6425435204141831\n",
      "0.6424124254293408\n",
      "0.6423020594438029\n",
      "0.642209144204156\n",
      "0.6421309200649447\n",
      "0.6420650639006648\n",
      "0.6420096200245083\n",
      "0.6419629420490421\n",
      "0.6419236439529312\n",
      "0.6418905588940174\n",
      "0.6418627045410781\n",
      "0.6418392538915653\n",
      "0.6418195107065114\n",
      "0.6418028888315885\n",
      "0.6417888947891852\n",
      "0.6417771131238426\n",
      "1.7097307246156794\n",
      "1.4804069177561217\n",
      "1.3017673442874227\n",
      "1.1629801814755687\n",
      "1.0548547464441724\n",
      "0.9702163418353056\n",
      "0.9036301767229258\n",
      "0.8510062538044998\n",
      "0.8092548522643764\n",
      "0.7760235041402592\n",
      "0.7495051789001264\n",
      "0.7283000923593366\n",
      "0.7113158550217175\n",
      "0.6976946093628537\n",
      "0.6867591900189117\n",
      "0.6779728206648488\n",
      "0.6709085734306127\n",
      "0.6652259730761122\n",
      "0.6606529061858971\n",
      "0.6569715223319855\n",
      "0.6540071749415568\n",
      "0.6516197005023855\n",
      "0.6496965121228099\n",
      "0.6481471109920028\n",
      "0.6468987124604122\n",
      "0.6458927525551285\n",
      "0.6450820926725044\n",
      "0.6444287796757342\n",
      "0.6439022489537695\n",
      "0.6434778814935209\n",
      "0.6431358443504174\n",
      "0.6428601582930473\n",
      "0.6426379477494699\n",
      "0.642458837173923\n",
      "0.6423144650976763\n",
      "0.6421980928211333\n",
      "0.642104289250915\n",
      "0.6420286770230356\n",
      "0.6419677279674653\n",
      "0.6419185983069042\n",
      "0.6418789958593483\n",
      "0.6418470730220097\n",
      "0.6418213405265709\n",
      "0.6418005979310193\n",
      "0.6417838775981446\n",
      "0.6417703995425629\n",
      "0.6417595350368446\n",
      "1.656114106869531\n",
      "1.3983227509691323\n",
      "1.208398483612998\n",
      "1.0684749212652545\n",
      "0.9647265381769634\n",
      "0.8872146486549163\n",
      "0.8289070825044146\n",
      "0.7848003785159089\n",
      "0.7512902719384572\n",
      "0.7257460348684533\n",
      "0.7062249025856152\n",
      "0.6912782655091495\n",
      "0.6798177094075465\n",
      "0.6710206122763376\n",
      "0.6642624232167574\n",
      "0.6590673381592619\n",
      "0.655071925642037\n",
      "0.6519980359986054\n",
      "0.6496324678417174\n",
      "0.647811614530986\n",
      "0.6464098172389534\n",
      "0.6453304983500259\n",
      "0.6444993930596624\n",
      "0.6438593718440394\n",
      "0.6433664735201728\n",
      "0.6429868620977787\n",
      "0.6426944900895505\n",
      "0.6424693029740184\n",
      "0.6422958587153519\n",
      "0.6421622659396653\n",
      "0.6420593669425178\n",
      "0.6419801089156123\n",
      "0.6419190599359911\n",
      "0.6418720363329516\n",
      "0.6418358157698414\n",
      "0.6418079163044563\n",
      "0.6417864262441662\n",
      "0.6417698731109579\n",
      "0.6417571227223834\n",
      "1.6024974891233827\n",
      "1.3206968259790774\n",
      "1.1248697488794301\n",
      "0.9882025590573836\n",
      "0.891801749907137\n",
      "0.8231012929120436\n",
      "0.7737384075303173\n",
      "0.7380525787355088\n",
      "0.7121397395280381\n",
      "0.6932635349318845\n",
      "0.6794818316747577\n",
      "0.6694032300751844\n",
      "0.662024050311194\n",
      "0.656616698473535\n",
      "0.6526518331782427\n",
      "0.6497433500849585\n",
      "0.6476090954196423\n",
      "0.6460425993459326\n",
      "0.6448926254847686\n",
      "0.644048315436038\n",
      "0.6434283656920001\n",
      "0.6429731253608774\n",
      "0.6426388173576514\n",
      "0.6423933075704163\n",
      "0.6422130047235463\n",
      "0.6420805873485548\n",
      "0.6419833364348755\n",
      "0.6419119119608685\n",
      "0.6418594549159323\n",
      "0.6418209281018344\n",
      "0.6417926321562214\n",
      "0.6417718501879474\n",
      "0.6417565868283929\n",
      "0.6417453766036142\n",
      "1.5488808713772344\n",
      "1.2475466079414033\n",
      "1.0505507144180957\n",
      "0.9204493001038497\n",
      "0.8332161309807921\n",
      "0.7739887681550532\n",
      "0.7334113042699103\n",
      "0.705437767307744\n",
      "0.6860716508120495\n",
      "0.6726260616713661\n",
      "0.6632728236369113\n",
      "0.6567577149607507\n",
      "0.6522153912586762\n",
      "0.6490464937391175\n",
      "0.6468347858749021\n",
      "0.6452906738453991\n",
      "0.6442124193769678\n",
      "0.6434593631971536\n",
      "0.6429333727596775\n",
      "0.6425659557476114\n",
      "0.6423092933399864\n",
      "0.6421299933199663\n",
      "0.6420047343213032\n",
      "0.6419172269008088\n",
      "0.6418560924575615\n",
      "0.6418133823538457\n",
      "0.6417835437983281\n",
      "0.6417626976072717\n",
      "0.6417481337352277\n",
      "0.6417379588891199\n",
      "1.495264253631086\n",
      "1.1788738794458022\n",
      "0.9847974112000376\n",
      "0.8636467178013715\n",
      "0.7865293331040769\n",
      "0.736738981254684\n",
      "0.7042901705265406\n",
      "0.6830158529794498\n",
      "0.669014291469064\n",
      "0.6597765389591391\n",
      "0.6536720718424908\n",
      "0.6496339491935444\n",
      "0.6469609059265802\n",
      "0.6451906904622201\n",
      "0.644018025710948\n",
      "0.6432410528542215\n",
      "0.6427261876933661\n",
      "0.642384980636291\n",
      "0.6421588461005129\n",
      "0.6420089701550743\n",
      "0.641909633923989\n",
      "0.6418437938195114\n",
      "0.6418001544926679\n",
      "0.6417712298043426\n",
      "0.6417520580702503\n",
      "0.6417393507061627\n",
      "1.4416476358849377\n",
      "1.1146651133843453\n",
      "0.9269678849428281\n",
      "0.8163779619812193\n",
      "0.749672140942493\n",
      "0.7088186234245301\n",
      "0.6835658532981492\n",
      "0.6678695351087284\n",
      "0.6580804712490165\n",
      "0.6519630124737363\n",
      "0.6481352421851564\n",
      "0.6457382984950397\n",
      "0.6442366117233591\n",
      "0.6432955209020348\n",
      "0.6427056386204616\n",
      "0.642335852818551\n",
      "0.6421040241790178\n",
      "0.6419586778824232\n",
      "0.6418675495536252\n",
      "0.6418104134384648\n",
      "0.6417745895320157\n",
      "0.6417521280572429\n",
      "0.6417380447215401\n",
      "1.3880310181387894\n",
      "1.0548919673838115\n",
      "0.8764336070995183\n",
      "0.777372835084895\n",
      "0.720892606844949\n",
      "0.6881814182725525\n",
      "0.6690687853125729\n",
      "0.6578459955114084\n",
      "0.6512373616259336\n",
      "0.6473394406959097\n",
      "0.6450381679820477\n",
      "0.643678773591375\n",
      "0.6428754966347278\n",
      "0.6424007421536923\n",
      "0.6421201197413985\n",
      "0.641954235598473\n",
      "0.6418561727134626\n",
      "0.6417982011963262\n",
      "0.6417639298868126\n",
      "0.6417436693803082\n",
      "0.641731691719632\n",
      "1.334414400392641\n",
      "0.9995119082828795\n",
      "0.8325871927031248\n",
      "0.7454970738959326\n",
      "0.6987076503500128\n",
      "0.6731755629867279\n",
      "0.659129369896382\n",
      "0.6513686070467273\n",
      "0.6470706755147908\n",
      "0.6446874516298707\n",
      "0.6433650221698671\n",
      "0.6426309359740876\n",
      "0.642223354954255\n",
      "0.6419970302113033\n",
      "0.6418713466383634\n",
      "0.6418015489944263\n",
      "0.6417627864962824\n",
      "0.6417412592929483\n",
      "0.6417293038363906\n",
      "1.2807977826464927\n",
      "0.9484689771600372\n",
      "0.7948470010239338\n",
      "0.7197393741235731\n",
      "0.6818621722402394\n",
      "0.6624715003931374\n",
      "0.6524718346809234\n",
      "0.6472962330279254\n",
      "0.6446125052781997\n",
      "0.6432195818877376\n",
      "0.6424962658979532\n",
      "0.642120568098829\n",
      "0.6419254012088563\n",
      "0.6418240093310538\n",
      "0.6417713329989359\n",
      "0.6417439654531351\n",
      "0.641729746739164\n",
      "1.2271811649003443\n",
      "0.9016947081675539\n",
      "0.7626592518296227\n",
      "0.6991983195652535\n",
      "0.6692955303871119\n",
      "0.6550050377558941\n",
      "0.6481317008431784\n",
      "0.6448159081053656\n",
      "0.6432140509277802\n",
      "0.6424396681879019\n",
      "0.6420651871901263\n",
      "0.6418840646262008\n",
      "0.641796455671011\n",
      "0.6417540776685061\n",
      "0.6417335783124215\n",
      "1.1735645471541958\n",
      "0.8591092181683999\n",
      "0.7354982916416533\n",
      "0.6830704034909924\n",
      "0.6601143231288131\n",
      "0.6499317238392399\n",
      "0.6453902426051362\n",
      "0.6433598940825599\n",
      "0.6424512360555463\n",
      "0.6420443866926302\n",
      "0.6418621828175198\n",
      "0.6417805767981289\n",
      "0.6417440253186087\n",
      "0.641727653539765\n",
      "1.1199479294080474\n",
      "0.8206224892900882\n",
      "0.7128656015354125\n",
      "0.6706396811022883\n",
      "0.6535701966455641\n",
      "0.6465894452546905\n",
      "0.643721583340983\n",
      "0.6425412369273478\n",
      "0.6420550702018526\n",
      "0.6418547641109091\n",
      "0.6417722253644031\n",
      "0.6417382124265726\n",
      "0.6417241959222\n",
      "1.066331311661899\n",
      "0.786135873559624\n",
      "0.694288061408456\n",
      "0.6612691842498892\n",
      "0.6490414728406702\n",
      "0.6444671002811013\n",
      "0.6427495642465503\n",
      "0.6421038094621168\n",
      "0.6418608974388021\n",
      "0.6417695044630864\n",
      "0.6417351164081777\n",
      "0.6417221770104958\n",
      "1.012714693915751\n",
      "0.7555438585910859\n",
      "0.6793158852573393\n",
      "0.654393990953162\n",
      "0.6460175892451412\n",
      "0.6431778885359286\n",
      "0.6422124648091764\n",
      "0.6418839331417434\n",
      "0.6417720983759804\n",
      "0.6417340247591593\n",
      "0.6417210622919123\n",
      "0.9590980761696024\n",
      "0.728736147101169\n",
      "0.6675205269593115\n",
      "0.6495157180440577\n",
      "0.6440855580751075\n",
      "0.6424362423009021\n",
      "0.6419342402521774\n",
      "0.6417813491138722\n",
      "0.6417347751980185\n",
      "0.6417205869540276\n",
      "0.9054814584234541\n",
      "0.7056001227286512\n",
      "0.6584927343648235\n",
      "0.6461981569287459\n",
      "0.6429178487015628\n",
      "0.6420377649790593\n",
      "0.6418012989466934\n",
      "0.6417377390035586\n",
      "0.6417206528673902\n",
      "0.8518648406773057\n",
      "0.6860238032069623\n",
      "0.6518408077847723\n",
      "0.6440637740706758\n",
      "0.6422612647851328\n",
      "0.6418417742711134\n",
      "0.641744055811638\n",
      "0.6417212877376322\n",
      "0.7982482229311574\n",
      "0.6698994241544355\n",
      "0.6471890017362124\n",
      "0.6427908326696978\n",
      "0.6419265236237435\n",
      "0.6417562016185238\n",
      "0.641722619493158\n",
      "0.7446316051850088\n",
      "0.6571278604485207\n",
      "0.6441758973064795\n",
      "0.64211095027735\n",
      "0.6417783527778206\n",
      "0.6417246956533679\n",
      "0.6910149874388605\n",
      "0.6476241906158783\n",
      "0.6424524626140554\n",
      "0.641806984155864\n",
      "0.6417259984089821\n",
      "0.6417158308082949\n",
      "0.6373983696927124\n",
      "0.6413248661144082\n",
      "0.6416793980532721\n",
      "0.6417112321886278\n",
      "0.583781751946564\n",
      "0.6381972039135635\n",
      "0.6415232050210963\n",
      "0.6417040578386666\n",
      "0.5301651342004154\n",
      "0.6382523570549425\n",
      "0.6416501712985551\n",
      "0.64171320786747\n",
      "0.4765485164542671\n",
      "0.6415636921211709\n",
      "0.6417170364366975\n",
      "0.42293189870811876\n",
      "0.6482939475310716\n",
      "0.641356290395818\n",
      "0.641733520671187\n",
      "0.6417133457808216\n",
      "0.3693152809619702\n",
      "0.6587374115853557\n",
      "0.6401524393079124\n",
      "0.6418535799791601\n",
      "0.641701930511585\n",
      "0.6417154823358394\n",
      "0.3156986632158221\n",
      "0.6733894772527742\n",
      "0.6376021135668535\n",
      "0.6422266282241597\n",
      "0.641650217443633\n",
      "0.6417223998813656\n",
      "0.26208204546967373\n",
      "0.6930702761441064\n",
      "0.6330428388986757\n",
      "0.643099134610025\n",
      "0.6414911648753323\n",
      "0.6417502951266668\n",
      "0.6417085875943391\n",
      "0.2084654277235254\n",
      "0.7191671054870636\n",
      "0.6255141937297385\n",
      "0.6448624869836871\n",
      "0.6410933003582976\n",
      "0.6418365365712864\n",
      "0.6416903266760767\n",
      "0.6417191026204212\n",
      "0.1548488099773766\n",
      "0.7541795896024812\n",
      "0.6134498732656919\n",
      "0.648164562593835\n",
      "0.6402073357913651\n",
      "0.6420645697173594\n",
      "0.641632889938132\n",
      "0.6417333235004823\n",
      "0.6417099621520151\n",
      "0.10123219223122848\n",
      "0.8032337142023118\n",
      "0.5938401126504319\n",
      "0.6542026576636952\n",
      "0.6383364738162746\n",
      "0.6426192486883934\n",
      "0.6414713386220288\n",
      "0.6417795989580946\n",
      "0.641696860847859\n",
      "0.6417190710805858\n",
      "0.04761557448508014\n",
      "0.8803160124144136\n",
      "0.5588823882071634\n",
      "0.6658305195061632\n",
      "0.634278143341185\n",
      "0.6439675996004713\n",
      "0.6410279730271455\n",
      "0.641923128258581\n",
      "0.6416508491530155\n",
      "0.6417336966693952\n",
      "0.6417084909394728\n",
      "-0.006001043261068428\n",
      "-0.05961766100721677\n",
      "-0.11323427875336511\n",
      "-0.16685089649951346\n",
      "-0.2204675142456618\n",
      "-0.27408413199181014\n",
      "-0.32770074973795893\n",
      "-0.38131736748410683\n",
      "-0.43493398523025517\n",
      "-0.48855060297640396\n",
      "-0.5421672207225519\n",
      "-0.5957838384687006\n",
      "-0.6494004562148485\n",
      "-0.7030170739609973\n",
      "-0.7566336917071457\n",
      "-0.8102503094532936\n",
      "-0.8638669271994424\n",
      "-0.9174835449455907\n",
      "-0.971100162691739\n",
      "-1.0247167804378874\n",
      "-1.0783333981840357\n",
      "-1.131950015930184\n",
      "-1.1855666336763324\n",
      "-1.2391832514224812\n",
      "-1.292799869168629\n",
      "-1.3464164869147774\n",
      "-1.4000331046609258\n",
      "-1.4536497224070741\n",
      "-1.507266340153223\n",
      "-1.5608829578993708\n",
      "-1.6144995756455196\n",
      "-1.668116193391668\n",
      "-1.7217328111378158\n",
      "-1.7753494288839642\n",
      "-1.828966046630113\n",
      "-1.8825826643762613\n",
      "-1.9361992821224092\n",
      "-1.989815899868558\n",
      "-2.043432517614706\n",
      "-2.0970491353608542\n",
      "-2.1506657531070035\n",
      "-2.204282370853152\n",
      "-2.2578989885992993\n",
      "-2.3115156063454485\n",
      "-2.365132224091597\n",
      "-2.4187488418377443\n",
      "-2.4723654595838935\n",
      "-2.525982077330042\n",
      "-2.57959869507619\n",
      "-2.6332153128223386\n",
      "-2.686831930568487\n",
      "-2.7404485483146352\n",
      "-2.7940651660607836\n",
      "-2.847681783806932\n",
      "-2.9012984015530803\n",
      "-2.9549150192992286\n",
      "-3.008531637045377\n",
      "-3.0621482547915253\n",
      "-3.1157648725376736\n",
      "-3.169381490283822\n",
      "-3.2229981080299703\n",
      "-3.2766147257761187\n",
      "-3.330231343522267\n",
      "-3.3838479612684154\n",
      "-3.4374645790145637\n",
      "-3.491081196760712\n"
     ]
    },
    {
     "name": "stderr",
     "output_type": "stream",
     "text": [
      "//anaconda3/lib/python3.7/site-packages/ipykernel_launcher.py:8: RuntimeWarning: invalid value encountered in sqrt\n",
      "  \n"
     ]
    }
   ],
   "source": [
    "x = np.linspace(0.1,3,100)\n",
    "y = [iter1(2,x[i])[1] for i in range(len(x))]"
   ]
  },
  {
   "cell_type": "markdown",
   "metadata": {},
   "source": [
    "Видим, что начиная, с какого-то $a$ наше вычитание $a*f(x)$ приводит к отрицательному значению, из-за чего происходит ошибка во время вычисления корня, из-за чего все ломается. Посмотрим, что будет происходить до таких значений. Возьмем интервал $(0,1)$ ."
   ]
  },
  {
   "cell_type": "code",
   "execution_count": 367,
   "metadata": {},
   "outputs": [],
   "source": [
    "def iter1(x0,a,eps=1e-5,maxiter = 1000):\n",
    "    x_0 =x0\n",
    "    x_n = x_0 - a*(np.sqrt(x_0) - np.cos(x_0))\n",
    "    n = 0\n",
    "    while np.abs(x_n - x_0) > eps and n < maxiter:\n",
    "        x_0 = x_n\n",
    "        x_n = x_n - a*(np.sqrt(x_n) - np.cos(x_n))\n",
    "        n = n+1\n",
    "    return x_n,n"
   ]
  },
  {
   "cell_type": "code",
   "execution_count": 379,
   "metadata": {},
   "outputs": [],
   "source": [
    "def der1(x):\n",
    "    return 0.5/np.sqrt(x) + np.sin(x) # производная нашей функции"
   ]
  },
  {
   "cell_type": "code",
   "execution_count": 387,
   "metadata": {},
   "outputs": [
    {
     "data": {
      "text/plain": [
       "[<matplotlib.lines.Line2D at 0x128c81080>]"
      ]
     },
     "execution_count": 387,
     "metadata": {},
     "output_type": "execute_result"
    },
    {
     "data": {
      "image/png": "[encoded data removed]",
      "text/plain": [
       "<Figure size 432x288 with 1 Axes>"
      ]
     },
     "metadata": {
      "needs_background": "light"
     },
     "output_type": "display_data"
    }
   ],
   "source": [
    "x = np.linspace(0.1,1,100)\n",
    "y = [iter1(2,x[i])[1] for i in range(len(x))] #наполняем массив из количества итераций\n",
    "der_0 = [der1(x[i]) for i in range(len(x))] #наполним массив из производных для отрезка x\n",
    "m = min(der_0) \n",
    "M = max(der_0)\n",
    "#найдем минимальное - m и максимальное - M\n",
    "plt.figure()\n",
    "plt.title('График зависимости n(a)')\n",
    "plt.xlabel('a')\n",
    "plt.ylabel('Количество итераций, n')\n",
    "plt.plot(x,y)\n",
    "plt.plot(2 / (m + M),iter1(2,2/(m+M))[1] , 'o')\n"
   ]
  },
  {
   "cell_type": "markdown",
   "metadata": {},
   "source": [
    "Получили, что при увеличении $a$ до какой-то точки оно уменьшается, а потом начинает возрастать. А оранжевая точка, это количество итераций при $a = \\dfrac{2}{m+M}$. В принципе эта точка находится близко к тому значению $a$, при котором метод быстрее всего сходится."
   ]
  },
  {
   "cell_type": "markdown",
   "metadata": {},
   "source": [
    "# Part III. Newton's fractal.\n",
    "\n",
    "(Not graded). \n",
    "\n",
    "Consider the equation\n",
    "\n",
    "$$\n",
    "x^3 = 1\n",
    "$$\n",
    "\n",
    "It has three solutions in the complex plane, $x_k = \\exp(i\\, 2\\pi k/ 3)$, $k = 0, 1, 2$.\n",
    "\n",
    "The Newton's iterations converge to one of these solutions, depending on the starting point in the complex plane (to converge to a complex-valued solution, the iteration needs a complex-valued starting point).\n",
    "\n",
    "Plot the \\emph{basins of attraction} of these roots on the complex plane of $x$ (i.e., on the plane $\\mathrm{Re}x$ -- $\\mathrm{Im}x$). To this end, make a series of calculations, varying the initial conditions on a grid of points. \n",
    "Color the grid in three colors, according to the root, to which iterations converged."
   ]
  },
  {
   "cell_type": "code",
   "execution_count": null,
   "metadata": {},
   "outputs": [],
   "source": []
  },
  {
   "cell_type": "markdown",
   "metadata": {},
   "source": [
    "Зададим точки, которые являются решениями нашего кубического уравнения"
   ]
  },
  {
   "cell_type": "code",
   "execution_count": 403,
   "metadata": {},
   "outputs": [],
   "source": [
    "z1 = np.cos(0) +1j*np.sin(0)\n",
    "z2 = np.cos(2*np.pi/3) +1j*np.sin(2*np.pi/3)\n",
    "z3 = np.cos(4*np.pi/3) +1j*np.sin(4*np.pi/3)"
   ]
  },
  {
   "cell_type": "code",
   "execution_count": 404,
   "metadata": {},
   "outputs": [],
   "source": [
    "def f1(x): # наша функция\n",
    "    return x**3 - 1"
   ]
  },
  {
   "cell_type": "code",
   "execution_count": 405,
   "metadata": {},
   "outputs": [],
   "source": [
    "def der_f1(x): # ее производная\n",
    "    return 3*x**2"
   ]
  },
  {
   "cell_type": "code",
   "execution_count": 424,
   "metadata": {},
   "outputs": [],
   "source": [
    "x = np.linspace(-10,10,100)  # создаем сетку, на которой будем изображать наши фракталы, не берем очень много\n",
    "y = np.linspace(-10,10,100)  # потому что создается она очень долго"
   ]
  },
  {
   "cell_type": "code",
   "execution_count": 428,
   "metadata": {},
   "outputs": [
    {
     "data": {
      "image/png": "[encoded data removed]",
      "text/plain": [
       "<Figure size 432x288 with 1 Axes>"
      ]
     },
     "metadata": {
      "needs_background": "light"
     },
     "output_type": "display_data"
    }
   ],
   "source": [
    "plt.figure()\n",
    "for i in range(len(x)): #пробегаемся по всем точкам\n",
    "    for k in range(len(y)):\n",
    "        z = new_it(f1,der_f1,x[i]+1j*y[k], eps=1e-5, maxiter=100)[0] #находим куда сходится наше решение в зависимости\n",
    "                                                                     #от начальных координат (x[i],j[k])\n",
    "        if np.abs(z-z1)<1e-2: #а потом находим, к какому корню относится точка и закрашиваем в определенный цвет\n",
    "            plt.plot(x[i],y[k],'o',color = 'g')\n",
    "        if np.abs(z-z2)<1e-2:\n",
    "            plt.plot(x[i],y[k],'o',color = 'r')\n",
    "        if np.abs(z-z3)<1e-2:\n",
    "            plt.plot(x[i],y[k],'o',color = 'b')\n",
    "plt.title('Фракталы Ньютона')\n",
    "plt.xlabel('Re(z)')\n",
    "plt.ylabel('Im(z)')\n",
    "plt.show()"
   ]
  },
  {
   "cell_type": "code",
   "execution_count": null,
   "metadata": {},
   "outputs": [],
   "source": []
  }
 ],
 "metadata": {
  "kernelspec": {
   "display_name": "Python 3",
   "language": "python",
   "name": "python3"
  },
  "language_info": {
   "codemirror_mode": {
    "name": "ipython",
    "version": 3
   },
   "file_extension": ".py",
   "mimetype": "text/x-python",
   "name": "python",
   "nbconvert_exporter": "python",
   "pygments_lexer": "ipython3",
   "version": "3.7.3"
  }
 },
 "nbformat": 4,
 "nbformat_minor": 2
}
