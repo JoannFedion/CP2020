{
 "cells": [
  {
   "cell_type": "code",
   "execution_count": 466,
   "metadata": {},
   "outputs": [],
   "source": [
    "import numpy as np\n",
    "\n",
    "from numpy.testing import assert_allclose"
   ]
  },
  {
   "cell_type": "markdown",
   "metadata": {},
   "source": [
    "# Part I. Construct a Householder reflection of a vector."
   ]
  },
  {
   "cell_type": "markdown",
   "metadata": {},
   "source": [
    "Given a vector $\\mathbf{x}$, and a plane with a normal vector $\\mathbf{u}$, the Householder transformation reflects $\\mathbf{x}$ about the plane.\n",
    "\n",
    "The matrix of the Householder transformation is\n",
    "\n",
    "$$\n",
    "\\mathbf{H} = \\mathbf{1} - 2 \\mathbf{u} \\mathbf{u}^T\n",
    "$$\n",
    "\n",
    "Given two equal-length vectors $\\mathbf{x}$ and $\\mathbf{y}$, a rotation which brings $\\mathbf{x}$ to $\\mathbf{y}$ is a Householder transform with\n",
    "\n",
    "$$\n",
    "\\mathbf{u} = \\frac{\\mathbf{x} - \\mathbf{y}}{\\left|\\mathbf{x} - \\mathbf{y}\\right|}\n",
    "$$"
   ]
  },
  {
   "cell_type": "markdown",
   "metadata": {},
   "source": [
    "Write a function which rotates a given vector, $\\mathbf{x} = (x_1, \\dots, x_n)\n",
    "$ into $\\mathbf{y} = (\\left|\\mathbf{x}\\right|, 0, \\dots, 0)^T$ using a Householder transformation."
   ]
  },
  {
   "cell_type": "code",
   "execution_count": 587,
   "metadata": {},
   "outputs": [],
   "source": [
    "def householder(vec):\n",
    "    N = len(vec) #длина вектора х\n",
    "    y = np.zeros(N) \n",
    "    y[0] = np.linalg.norm(vec)\n",
    "    u1 = (vec - y ) / np.linalg.norm(vec - y) # просто следуем формуле, только у меня мой вектор u - это u.T из теории\n",
    "    #так как я изначально вектор х задаю как строчку, а не как столбец\n",
    "    u = np.zeros((1,N)) #создаем наш вектор, который сможем потом транспонировать\n",
    "    u[0] = u1\n",
    "    h = np.eye(N) - 2 * u.transpose() @ u\n",
    "    if vec.ndim != 1:\n",
    "        raise ValueError(\"vec.ndim = %s, expected 1\" % vec.ndim)\n",
    "    return vec@h, h"
   ]
  },
  {
   "cell_type": "markdown",
   "metadata": {},
   "source": [
    "Test your function using tests below:"
   ]
  },
  {
   "cell_type": "code",
   "execution_count": 602,
   "metadata": {},
   "outputs": [],
   "source": [
    "# Test I.1 (10% of the total grade).\n",
    "#Раз проверка\n",
    "v = np.array([1, 2, 3])\n",
    "v1, h = householder(v)\n",
    "assert_allclose(np.dot(h, v1), v)\n",
    "assert_allclose(np.dot(h, v), v1)"
   ]
  },
  {
   "cell_type": "markdown",
   "metadata": {},
   "source": [
    "Удачно"
   ]
  },
  {
   "cell_type": "code",
   "execution_count": 603,
   "metadata": {},
   "outputs": [],
   "source": [
    "# Test I.2 (10% of the total grade).\n",
    "\n",
    "rndm = np.random.RandomState(1234)\n",
    "\n",
    "vec = rndm.uniform(size=7)\n",
    "v1, h = householder(vec)\n",
    "\n",
    "assert_allclose(np.dot(h, v1), vec)"
   ]
  },
  {
   "cell_type": "markdown",
   "metadata": {},
   "source": [
    "Удачно"
   ]
  },
  {
   "cell_type": "markdown",
   "metadata": {},
   "source": [
    "# Part II. Compute the $\\mathrm{QR}$ decomposition of a matrix.\n",
    "\n",
    "Given a rectangular $m\\times n$ matrix $\\mathbf{A}$, construct a Householder reflector matrix $\\mathbf{H}_1$ which transforms the first column of $\\mathbf{A}$ (and call the result $\\mathbf{A}^{(1)}$)\n",
    "\n",
    "$$\n",
    "\\mathbf{H}_1 \\mathbf{A} =%\n",
    "\\begin{pmatrix}\n",
    "\\times & \\times & \\times & \\dots & \\times \\\\\n",
    "0      & \\times & \\times & \\dots & \\times \\\\\n",
    "0      & \\times & \\times & \\dots & \\times \\\\\n",
    "&& \\dots&& \\\\\n",
    "0      & \\times & \\times & \\dots & \\times \\\\\n",
    "\\end{pmatrix}%\n",
    "\\equiv \\mathbf{A}^{(1)}\\;.\n",
    "$$\n",
    "\n",
    "Now consider the lower-right submatrix of $\\mathbf{A}^{(1)}$, and construct a Householder reflector which annihilates the second column of $\\mathbf{A}$:\n",
    "\n",
    "$$\n",
    "\\mathbf{H}_2 \\mathbf{A}^{(1)} =%\n",
    "\\begin{pmatrix}\n",
    "\\times & \\times & \\times & \\dots & \\times \\\\\n",
    "0      & \\times & \\times & \\dots & \\times \\\\\n",
    "0      & 0      & \\times & \\dots & \\times \\\\\n",
    "&& \\dots&& \\\\\n",
    "0      & 0      & \\times & \\dots & \\times \\\\\n",
    "\\end{pmatrix}%\n",
    "\\equiv \\mathbf{A}^{(2)} \\;.\n",
    "$$\n",
    "\n",
    "Repeating the process $n-1$ times, we obtain\n",
    "\n",
    "$$\n",
    "\\mathbf{H}_{n-1} \\cdots \\mathbf{H}_2 \\mathbf{H}_1 \\mathbf{A} = \\mathbf{R} \\;,\n",
    "$$\n",
    "\n",
    "with $\\mathbf{R}$ an upper triangular matrix. Since each $\\mathbf{H}_k$ is orthogonal, so is their product. The inverse of an orthogonal matrix is orthogonal. Hence the process generates the $\\mathrm{QR}$ decomposition of $\\mathbf{A}$. "
   ]
  },
  {
   "cell_type": "markdown",
   "metadata": {},
   "source": [
    "Write a function, which receives a recangular matrix, $A$, and returns the Q and R factors of the $QR$ factorization of $A$."
   ]
  },
  {
   "cell_type": "code",
   "execution_count": 590,
   "metadata": {},
   "outputs": [],
   "source": [
    "def householder1(vec): #для удобства запишу функцию похожую на первую, только она будет выводить просто матрицу H\n",
    "    N = len(vec)\n",
    "    y = np.zeros(N)\n",
    "    y[0] = np.linalg.norm(vec)\n",
    "    u1 = (vec - y ) / np.linalg.norm(vec - y)\n",
    "    u = np.zeros((1,N))\n",
    "    u[0] = u1\n",
    "    h = np.eye(N) - 2 * u.transpose() @ u\n",
    "    if vec.ndim != 1:\n",
    "        raise ValueError(\"vec.ndim = %s, expected 1\" % vec.ndim)\n",
    "    return h"
   ]
  },
  {
   "cell_type": "code",
   "execution_count": 591,
   "metadata": {},
   "outputs": [],
   "source": [
    "def qr1(a): # qr1 - функция, которая будет по заданной матрице выбирать первый столбец и по нему строить матрицу H\n",
    "    # чтобы могли первый столбец занулить\n",
    "    vec = a.transpose()[0]\n",
    "    hh = householder1(vec)\n",
    "    return hh"
   ]
  },
  {
   "cell_type": "code",
   "execution_count": 604,
   "metadata": {},
   "outputs": [],
   "source": [
    "def qr_decomp(a): #приступим к написанию QR разложения\n",
    "    N_0 = a.shape[0] #задаем необходимые константы N_0 - кол-во строк\n",
    "    N_1 = a.shape[1] # N_1 - кол-во столбцов\n",
    "    matrix_1 = np.zeros((N_0,N_0), dtype = float) #Из этой матрицы будем делать преобразование Householder'a\n",
    "    matrix_2 = np.eye(N_0) # Эта матрица для того, чтобы начать создание матрицы Q, эту матрицу будем каждый раз\n",
    "                            # Умножать на Householder и вследствии получим Q^(-1)\n",
    "    matrix_a = a.copy() # Эта матрица для запуска цикла, то есть чтобы задать наше поочередное умножение, и потом\n",
    "                        # Это перемножение даст нашу матрицу R \n",
    "    for i in range(0,N_1-1): #по условию преобразования производятся N-1 раз\n",
    "        h1 = qr1(matrix_a[i:,i:]) #создаем матрицу Householder'a = H для обрезанной матрицы, так как на i - ом шаге\n",
    "                                  #мы будем брать не полную матрицу\n",
    "        h0 = np.eye(i) #это единичная матрица, которая будет стоять первой в конечной матрице H, она нужна\n",
    "                       #чтобы мы оставшаяся матрица после вырезания при преобразовании не менялась\n",
    "        matrix_1[:i,:i] = h0\n",
    "        matrix_1[i:,i:] = h1 \n",
    "        # тут идет как раз содание H, то есть сначала идет блок единичной матрицы, а потом блок для обрезанной матрицы\n",
    "        matrix_a = matrix_1 @ matrix_a # идет последовательное применение H\n",
    "        matrix_2 = matrix_1 @ matrix_2 # идет перемножение H, то есть создание Q^(-1)\n",
    "        matrix_1 = np.zeros((N_0,N_0), dtype = float) #тут я не нашел другого выхода, кроме того как\n",
    "                                                      #обнулить мою матрицу H, и в новом цикле просто по-новой ее \n",
    "                                                      #создать, вроде, это не должно быть чем-то страшным \n",
    "    r = matrix_a #просто вводим удобные обозначения\n",
    "    q = np.linalg.inv(matrix_2) #находим обратную матрицу из произведения всех H\n",
    "    return q , r\n",
    "a1 = np.array(a, copy=True, dtype=float)\n",
    "m, n = a1.shape"
   ]
  },
  {
   "cell_type": "code",
   "execution_count": 605,
   "metadata": {},
   "outputs": [],
   "source": [
    "# Might want to turn this on for prettier printing: zeros instead of `1e-16` etc\n",
    "\n",
    "np.set_printoptions(suppress=True)"
   ]
  },
  {
   "cell_type": "code",
   "execution_count": 609,
   "metadata": {},
   "outputs": [],
   "source": [
    "# Test II.1 (20% of the total grade)\n",
    "\n",
    "rndm = np.random.RandomState(1234)\n",
    "a = rndm.uniform(size=(5, 3))\n",
    "q, r = qr_decomp(a)\n",
    "\n",
    "# test that Q is indeed orthogonal\n",
    "assert_allclose(np.dot(q, q.T), np.eye(5), atol=1e-10)\n",
    "\n",
    "# test the decomposition itself\n",
    "assert_allclose(np.dot(q, r), a)"
   ]
  },
  {
   "cell_type": "markdown",
   "metadata": {},
   "source": [
    "Удачно"
   ]
  },
  {
   "cell_type": "markdown",
   "metadata": {},
   "source": [
    "Now compare your decompositions to the library function (which actually wraps the corresponding LAPACK functions)"
   ]
  },
  {
   "cell_type": "code",
   "execution_count": 623,
   "metadata": {},
   "outputs": [],
   "source": [
    "from scipy.linalg import qr\n",
    "qq, rr = qr(a)\n",
    "\n",
    "assert_allclose(np.dot(qq, rr), a)\n",
    "assert_allclose(np.dot(qq, rr), qr_decomp(a)[0] @ qr_decomp(a)[1])"
   ]
  },
  {
   "cell_type": "markdown",
   "metadata": {},
   "source": [
    "Check if your `q` and `r` agree with `qq` and `rr`. Explain."
   ]
  },
  {
   "cell_type": "markdown",
   "metadata": {},
   "source": [
    "*Enter your explanation here* (10% of the total grade, peer-graded)"
   ]
  },
  {
   "cell_type": "markdown",
   "metadata": {},
   "source": [
    "Результаты перемножения совпадают.НО! Если сравнивать по отдельности Q и R, то они не будут совпадать"
   ]
  },
  {
   "cell_type": "code",
   "execution_count": 624,
   "metadata": {
    "scrolled": true
   },
   "outputs": [
    {
     "data": {
      "text/plain": [
       "array([[-1.40152769, -1.2514379 , -0.89523615],\n",
       "       [ 0.        ,  0.84158252,  0.68447942],\n",
       "       [ 0.        ,  0.        , -0.5496046 ],\n",
       "       [ 0.        ,  0.        ,  0.        ],\n",
       "       [ 0.        ,  0.        ,  0.        ]])"
      ]
     },
     "execution_count": 624,
     "metadata": {},
     "output_type": "execute_result"
    }
   ],
   "source": [
    "rr"
   ]
  },
  {
   "cell_type": "code",
   "execution_count": 625,
   "metadata": {
    "scrolled": true
   },
   "outputs": [
    {
     "data": {
      "text/plain": [
       "array([[ 1.40152769,  1.2514379 ,  0.89523615],\n",
       "       [ 0.        ,  0.84158252,  0.68447942],\n",
       "       [ 0.        ,  0.        , -0.13872729],\n",
       "       [ 0.        , -0.        ,  0.31721312],\n",
       "       [ 0.        ,  0.        , -0.42684399]])"
      ]
     },
     "execution_count": 625,
     "metadata": {},
     "output_type": "execute_result"
    }
   ],
   "source": [
    "qr_decomp(a)[1]"
   ]
  },
  {
   "cell_type": "markdown",
   "metadata": {},
   "source": [
    "Можно заметить, что в библиотечном разложении, видимо, заложен какой-то другой алгоритм, потому что матрица R выглядит по-другому, точнее идея, кажется,немного другая. Потому что в нашем алгоритме сказано, что преоразование надо производить N-1 раз. Как минимум, в этом случае у нас N = 3. То есть у нас будет произведено только два преобразования, из-за чего поменяются у изначальной матрицы только первые два столбца( будет обнуление под диагоналями). А в библиотечной, видимо, преобразование применяется не N - 1 раз. По-другому я не могу обосновать, почему у нас ответы по отдельности не совпадают. ХОТЯ! Результат будет одинаковым( это дал нам понять тест, который мы провели выше)\n",
    "\n",
    "assert_allclose(np.dot(qq, rr), qr_decomp(a)[0] @ qr_decomp(a)[1]) "
   ]
  },
  {
   "cell_type": "markdown",
   "metadata": {},
   "source": [
    "# Part III. Avoid forming Householder matrices explicitly."
   ]
  },
  {
   "cell_type": "markdown",
   "metadata": {},
   "source": [
    "Note the special structure of the Householder matrices: A reflector $\\mathbf{H}$ is completely specified by a reflection vector $\\mathbf{u}$. Also note that the computational cost of applying a reflector to a matrix strongly depends on the order of operations:\n",
    "\n",
    "$$\n",
    "\\left( \\mathbf{u} \\mathbf{u}^T \\right) \\mathbf{A}  \\qquad \\textrm{is } O(m^2 n)\\;,\n",
    "$$\n",
    "while\n",
    "$$\n",
    "\\mathbf{u} \\left( \\mathbf{u}^T \\mathbf{A} \\right) \\qquad \\textrm{is } O(mn)\n",
    "$$\n",
    "\n",
    "Thus, it seems to make sense to *avoid* forming the $\\mathbf{H}$ matrices. Instead, one stores the reflection vectors, $\\mathbf{u}$, themselves, and provides a way of multiplying an arbitrary matrix by $\\mathbf{Q}^T$, e.g., as a standalone function (or a class)."
   ]
  },
  {
   "cell_type": "markdown",
   "metadata": {},
   "source": [
    "Write a function which constructs the `QR` decomposition of a matrix *without ever forming the* $\\mathbf{H}$ matrices, and returns the $\\mathbf{R}$ matrix and reflection vectors. \n",
    "\n",
    "Write a second function, which uses reflection vectors to multiply a matrix with $\\mathbf{Q}^T$. Make sure to include enough comments for a marker to follow your implementation, and add tests. \n",
    "\n",
    "(Peer-graded, 40% of the total grade)"
   ]
  },
  {
   "cell_type": "code",
   "execution_count": 596,
   "metadata": {},
   "outputs": [],
   "source": [
    "def qr11(a): #Создаем функцию, которая на входе будет получать матрицу и возвращать вектора u и матрицу R\n",
    "    N0 = a.shape[0] #кол-во строк\n",
    "    N1 = a.shape[1] #кол-во столбцов\n",
    "    matrix = a.copy() # Также создаем матрицу, чтобы мы могли ее использовать в цикле\n",
    "    matrix_u = np.zeros((N1-1,N0)) #создаем матрицу, которая будет хранить в себе вектора u\n",
    "    for i in range(0, N1 - 1): #Преобразования производятся N - 1 раз\n",
    "        b = matrix.copy() # Сделаем матрицу, из которой мы потом будем вынимать наши вектора\n",
    "        x = b.transpose()[i] # выбираем i-ый вектор\n",
    "        x[:i] = 0 # тут мы уже не берем вырезанную матрицу, а просто обнуляем все компоненты до i-ой компоненты\n",
    "                  # и на i-ый компоненту ставим |x|\n",
    "        y = np.zeros(N0)\n",
    "        y[i] = np.linalg.norm(x) # вот тут мы вставляем норму х\n",
    "        u = np.zeros((1,N0),dtype = float)\n",
    "        u[0] = (x - y)/np.linalg.norm(x - y) # тут создаем вектор u, чтобы мы могли транспонировать его как раньше\n",
    "        matrix_1 = u @ matrix #если я правильно понял, что от нас нужно, то именно это, что сначала я мою матрицу A\n",
    "                              # умножаю на вектор \n",
    "        matrix = np.eye(N0) @ matrix - 2 * u.transpose() @ matrix_1 # и тут снова идет умножение вектора на матрицу\n",
    "        # Вроде, у меня получилось написать так, чтобы было умножение вектора на матрицу, а потом снова умножение\n",
    "        # вектора на матрицу, а не чтобы было умножение вектора на вектор, а потом умножение матрицы на матрицы\n",
    "        matrix_u[i] = u[0] # это просто заполняем матрицу нашими векторами u \n",
    "        # матрица matrix_u устроена так, что i - ая строчка соответствует i-ому вектора\n",
    "    r = matrix\n",
    "    return r,matrix_u"
   ]
  },
  {
   "cell_type": "code",
   "execution_count": 600,
   "metadata": {},
   "outputs": [],
   "source": [
    "def qr2(a,matrix_u): #создадим теперь функцию, которая получает матрицу a и набор векторов u\n",
    "    N0 = matrix_u.shape[0] #кол-во строк\n",
    "    N1 = matrix_u.shape[1] #кол-во столбцов\n",
    "    matrix = a.copy()\n",
    "    for i in range(0,N0):#N0 - это кол-во строк, то есть это кол-во преобразований, которые произошли\n",
    "                         # значит нам нужно произвести N0 произведений\n",
    "        u = np.zeros((1,N1),dtype = float)\n",
    "        u[0] = matrix_u[i] # вытаскиваем i - ый вектор из набора(I'm so sorry, нормально делать это так и не научился)\n",
    "        matrix_1 = u @ matrix # заставляем также сначала умножем вектор на матрицу(если это, конечно, так работает)\n",
    "                              #чтобы получить выигрыш в сложности\n",
    "        matrix = np.eye(N1) @ matrix - 2 * u.transpose() @ matrix_1 # и производим окончательное преобразование зацикленное\n",
    "    r = matrix\n",
    "    return r"
   ]
  },
  {
   "cell_type": "markdown",
   "metadata": {},
   "source": [
    "Теперь мы можем с помощью qr11 получить r и набор векторов, сделаем небольшую проверку"
   ]
  },
  {
   "cell_type": "code",
   "execution_count": 628,
   "metadata": {},
   "outputs": [],
   "source": [
    "matrix_u = qr11(a)[1]\n",
    "rr1 = qr11(a)[0]"
   ]
  },
  {
   "cell_type": "code",
   "execution_count": 629,
   "metadata": {},
   "outputs": [
    {
     "data": {
      "text/plain": [
       "array([[ 1.40152769,  1.2514379 ,  0.89523615],\n",
       "       [ 0.        ,  0.84158252,  0.68447942],\n",
       "       [ 0.        , -0.        , -0.13872729],\n",
       "       [ 0.        ,  0.        ,  0.31721312],\n",
       "       [ 0.        , -0.        , -0.42684399]])"
      ]
     },
     "execution_count": 629,
     "metadata": {},
     "output_type": "execute_result"
    }
   ],
   "source": [
    "qr2(a , matrix_u)"
   ]
  },
  {
   "cell_type": "code",
   "execution_count": 631,
   "metadata": {},
   "outputs": [
    {
     "data": {
      "text/plain": [
       "array([[ 1.40152769,  1.2514379 ,  0.89523615],\n",
       "       [ 0.        ,  0.84158252,  0.68447942],\n",
       "       [ 0.        , -0.        , -0.13872729],\n",
       "       [ 0.        ,  0.        ,  0.31721312],\n",
       "       [ 0.        , -0.        , -0.42684399]])"
      ]
     },
     "execution_count": 631,
     "metadata": {},
     "output_type": "execute_result"
    }
   ],
   "source": [
    "rr1"
   ]
  },
  {
   "cell_type": "code",
   "execution_count": 632,
   "metadata": {},
   "outputs": [
    {
     "name": "stdout",
     "output_type": "stream",
     "text": [
      "[[0. 0. 0.]\n",
      " [0. 0. 0.]\n",
      " [0. 0. 0.]\n",
      " [0. 0. 0.]\n",
      " [0. 0. 0.]]\n"
     ]
    }
   ],
   "source": [
    "print(rr1 - qr2(a, matrix_u))"
   ]
  },
  {
   "cell_type": "markdown",
   "metadata": {},
   "source": [
    "Все получилось. И у этих двух функций совпадают R"
   ]
  }
 ],
 "metadata": {
  "kernelspec": {
   "display_name": "Python 3",
   "language": "python",
   "name": "python3"
  },
  "language_info": {
   "codemirror_mode": {
    "name": "ipython",
    "version": 3
   },
   "file_extension": ".py",
   "mimetype": "text/x-python",
   "name": "python",
   "nbconvert_exporter": "python",
   "pygments_lexer": "ipython3",
   "version": "3.7.3"
  }
 },
 "nbformat": 4,
 "nbformat_minor": 2
}
