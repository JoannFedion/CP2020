{
 "cells": [
  {
   "cell_type": "markdown",
   "metadata": {},
   "source": [
    "# Simple iteration for systems of linear equations"
   ]
  },
  {
   "cell_type": "markdown",
   "metadata": {},
   "source": [
    "First, generate a random diagonally dominant matrix, for testing."
   ]
  },
  {
   "cell_type": "code",
   "execution_count": 288,
   "metadata": {},
   "outputs": [],
   "source": [
    "import numpy as np\n",
    "rndm = np.random.RandomState(1234)\n",
    "\n",
    "n = 5\n",
    "A = rndm.uniform(size=(n, n)) + np.diagflat([15]*n)\n",
    "b = rndm.uniform(size=n)\n",
    "#np.fill_diagonal(A, 1e-2)"
   ]
  },
  {
   "cell_type": "markdown",
   "metadata": {},
   "source": [
    "# I.  Jacobi iteration\n",
    "\n",
    "Given\n",
    "\n",
    "$$\n",
    "A x = b\n",
    "$$\n",
    "\n",
    "separate the diagonal part $D$,\n",
    "\n",
    "$$ A = D + (A - D) $$\n",
    "\n",
    "and write\n",
    "\n",
    "$$\n",
    "x = D^{-1} (D - A) x + D^{-1} b\\;.\n",
    "$$\n",
    "\n",
    "Then iterate\n",
    "\n",
    "$$\n",
    "x_{n + 1} = B x_{n} + c\\;,\n",
    "$$\n",
    "\n",
    "where \n",
    "\n",
    "$$\n",
    "B = D^{-1} (A - D) \\qquad \\text{and} \\qquad c = D^{-1} b\n",
    "$$\n"
   ]
  },
  {
   "cell_type": "markdown",
   "metadata": {},
   "source": [
    "Let's construct the matrix and the r.h.s. for the Jacobi iteration"
   ]
  },
  {
   "cell_type": "code",
   "execution_count": 322,
   "metadata": {},
   "outputs": [],
   "source": [
    "diag_1d = np.diag(A)\n",
    "\n",
    "B = -A.copy()\n",
    "np.fill_diagonal(B, 0)\n",
    "\n",
    "D = np.diag(diag_1d)\n",
    "invD = np.diag(1./diag_1d)\n",
    "BB = invD @ B \n",
    "c = invD @ b"
   ]
  },
  {
   "cell_type": "code",
   "execution_count": 323,
   "metadata": {},
   "outputs": [],
   "source": [
    "# sanity checks\n",
    "from numpy.testing import assert_allclose\n",
    "\n",
    "assert_allclose(-B + D, A)\n",
    "\n",
    "\n",
    "# xx is a \"ground truth\" solution, compute it using a direct method\n",
    "xx = np.linalg.solve(A, b)\n",
    "\n",
    "np.testing.assert_allclose(A@xx, b)\n",
    "np.testing.assert_allclose(D@xx, B@xx + b)\n",
    "np.testing.assert_allclose(xx, BB@xx + c)"
   ]
  },
  {
   "cell_type": "markdown",
   "metadata": {},
   "source": [
    "Check that $\\| B\\| \\leqslant 1$:"
   ]
  },
  {
   "cell_type": "code",
   "execution_count": 324,
   "metadata": {},
   "outputs": [
    {
     "data": {
      "text/plain": [
       "281.5411039169222"
      ]
     },
     "execution_count": 324,
     "metadata": {},
     "output_type": "execute_result"
    }
   ],
   "source": [
    "np.linalg.norm(BB)"
   ]
  },
  {
   "cell_type": "markdown",
   "metadata": {},
   "source": [
    "### Do the Jacobi iteration"
   ]
  },
  {
   "cell_type": "code",
   "execution_count": 325,
   "metadata": {},
   "outputs": [],
   "source": [
    "n_iter = 50\n",
    "\n",
    "x0 = np.ones(n)\n",
    "x = x0\n",
    "for _ in range(n_iter):\n",
    "    x = BB @ x + c"
   ]
  },
  {
   "cell_type": "code",
   "execution_count": 326,
   "metadata": {},
   "outputs": [
    {
     "data": {
      "text/plain": [
       "array([2.65473499e+117, 2.43339166e+117, 3.09853662e+117, 1.93371558e+117,\n",
       "       2.05818714e+117])"
      ]
     },
     "execution_count": 326,
     "metadata": {},
     "output_type": "execute_result"
    }
   ],
   "source": [
    "# Check the result:\n",
    "\n",
    "A @ x - b"
   ]
  },
  {
   "cell_type": "markdown",
   "metadata": {},
   "source": [
    "### Task I.1\n",
    "\n",
    "Collect the proof-of-concept above into a single function implementing the Jacobi iteration. This function should receive the r.h.s. matrix $A$, the l.h.s. vector `b`, and the number of iterations to perform.\n",
    "\n",
    "\n",
    "The matrix $A$ in the illustration above is strongly diagonally dominant, by construction. \n",
    "What happens if the diagonal matrix elements of $A$ are made smaller? Check the convergence of the Jacobi iteration, and check the value of the norm of $B$.\n",
    "\n",
    "(20% of the total grade)\n"
   ]
  },
  {
   "cell_type": "code",
   "execution_count": 316,
   "metadata": {},
   "outputs": [],
   "source": [
    "def f1(A,b,k): # Засовываем все вычисления, которые были ранее и выводим наш ответ и норму BB\n",
    "    diag_1d = np.diag(A)\n",
    "    B = -A.copy()\n",
    "    np.fill_diagonal(B, 0)\n",
    "    D = np.diag(diag_1d)\n",
    "    invD = np.diag(1./diag_1d)\n",
    "    BB = invD @ B \n",
    "    c = invD @ b\n",
    "    n = len(A)\n",
    "    n_iter = k\n",
    "    x0 = np.ones(n)\n",
    "    x = x0\n",
    "    for _ in range(n_iter):\n",
    "        x = BB @ x + c\n",
    "    return A @ x - b, np.linalg.norm(BB)"
   ]
  },
  {
   "cell_type": "code",
   "execution_count": 295,
   "metadata": {},
   "outputs": [
    {
     "data": {
      "text/plain": [
       "array([[1.51915195e+01, 6.22108771e-01, 4.37727739e-01, 7.85358584e-01,\n",
       "        7.79975808e-01],\n",
       "       [2.72592605e-01, 1.52764643e+01, 8.01872178e-01, 9.58139354e-01,\n",
       "        8.75932635e-01],\n",
       "       [3.57817270e-01, 5.00995126e-01, 1.56834629e+01, 7.12702027e-01,\n",
       "        3.70250755e-01],\n",
       "       [5.61196186e-01, 5.03083165e-01, 1.37684496e-02, 1.57728266e+01,\n",
       "        8.82641191e-01],\n",
       "       [3.64885984e-01, 6.15396178e-01, 7.53812416e-02, 3.68824006e-01,\n",
       "        1.59331401e+01]])"
      ]
     },
     "execution_count": 295,
     "metadata": {},
     "output_type": "execute_result"
    }
   ],
   "source": [
    "A"
   ]
  },
  {
   "cell_type": "markdown",
   "metadata": {},
   "source": [
    "Видим, что диагоналные элементы доминируют над остальными, и норма матрицы меньше 1. И тогда получается, что сходимость у нас будет к корню."
   ]
  },
  {
   "cell_type": "code",
   "execution_count": 244,
   "metadata": {},
   "outputs": [
    {
     "data": {
      "text/plain": [
       "(array([1.11022302e-16, 5.55111512e-17, 0.00000000e+00, 0.00000000e+00,\n",
       "        1.11022302e-16]), 0.17396672093190155)"
      ]
     },
     "execution_count": 244,
     "metadata": {},
     "output_type": "execute_result"
    }
   ],
   "source": [
    "f1(A,b,100)"
   ]
  },
  {
   "cell_type": "code",
   "execution_count": 247,
   "metadata": {
    "scrolled": true
   },
   "outputs": [
    {
     "data": {
      "text/plain": [
       "array([[0.1       , 0.62210877, 0.43772774, 0.78535858, 0.77997581],\n",
       "       [0.27259261, 0.1       , 0.80187218, 0.95813935, 0.87593263],\n",
       "       [0.35781727, 0.50099513, 0.1       , 0.71270203, 0.37025075],\n",
       "       [0.56119619, 0.50308317, 0.01376845, 0.1       , 0.88264119],\n",
       "       [0.36488598, 0.61539618, 0.07538124, 0.36882401, 0.1       ]])"
      ]
     },
     "execution_count": 247,
     "metadata": {},
     "output_type": "execute_result"
    }
   ],
   "source": [
    "np.fill_diagonal(A, 1e-1)\n",
    "A"
   ]
  },
  {
   "cell_type": "markdown",
   "metadata": {},
   "source": [
    "Сделаем теперь диагональные элементы сравнимыми с остальными и посмотрим, что будет тогда"
   ]
  },
  {
   "cell_type": "code",
   "execution_count": 248,
   "metadata": {},
   "outputs": [
    {
     "data": {
      "text/plain": [
       "(array([8.50178396e+132, 8.92686042e+132, 6.74843804e+132, 6.68788988e+132,\n",
       "        5.45972494e+132]), 26.891031378379665)"
      ]
     },
     "execution_count": 248,
     "metadata": {},
     "output_type": "execute_result"
    }
   ],
   "source": [
    "f1(A,b,100)"
   ]
  },
  {
   "cell_type": "markdown",
   "metadata": {},
   "source": [
    "Видно, что норма нашей матрицы превысила 1, из-за чего следует, что наш способ нахождения корня не сработает и он разойдется"
   ]
  },
  {
   "cell_type": "markdown",
   "metadata": {},
   "source": [
    "# II. Seidel's iteration."
   ]
  },
  {
   "cell_type": "markdown",
   "metadata": {},
   "source": [
    "##### Task II.1\n",
    "\n",
    "Implement the Seidel's iteration. \n",
    "\n",
    "Test it on a random matrix. Study the convergence of iterations, relate to the norm of the iteration matrix.\n",
    "\n",
    "(30% of the total grade)"
   ]
  },
  {
   "cell_type": "code",
   "execution_count": 249,
   "metadata": {},
   "outputs": [],
   "source": [
    "def f2(A,b,x,n):\n",
    "    A1 = np.tril(A) #np.tril(A) вырезает из матрица А все, что находится выше диагонали, то есть если выражаться\n",
    "                    # в обозначениях этого метода, как на Вики, то np.tril(A) = L + D\n",
    "                    # тогда наша матрица U = A - A1, нам надо из полной матрицы вычесть все, что выше диагонали и на ней\n",
    "    U = A - A1      # И тогда просто домножением матрицы A1^(-1) получаем наши итерации\n",
    "    x0 = x\n",
    "    for i in range(n):\n",
    "        x0 = np.linalg.inv(A1)@(-U@x0 + b)\n",
    "    return x0"
   ]
  },
  {
   "cell_type": "code",
   "execution_count": 333,
   "metadata": {},
   "outputs": [],
   "source": [
    "x1 = np.ones(5)  # пусть будет нашим приближением "
   ]
  },
  {
   "cell_type": "code",
   "execution_count": 355,
   "metadata": {
    "scrolled": false
   },
   "outputs": [
    {
     "data": {
      "text/plain": [
       "array([[1.57266585e+01, 9.00087837e-01, 7.79163801e-01, 5.99154781e-01,\n",
       "        2.91125245e-01],\n",
       "       [1.51395264e-01, 1.53351747e+01, 6.57551777e-01, 7.33425436e-02,\n",
       "        5.50063954e-02],\n",
       "       [3.23194814e-01, 5.90481804e-01, 1.58538986e+01, 2.87062425e-01,\n",
       "        1.73067227e-01],\n",
       "       [1.34021206e-01, 9.94653829e-01, 1.79497869e-01, 1.53175468e+01,\n",
       "        5.68291405e-01],\n",
       "       [9.34857450e-03, 9.00648621e-01, 9.77241431e-01, 5.56894679e-01,\n",
       "        1.50847738e+01]])"
      ]
     },
     "execution_count": 355,
     "metadata": {},
     "output_type": "execute_result"
    }
   ],
   "source": [
    "n = 5\n",
    "A = rndm.uniform(size=(n, n)) + np.diagflat([15]*n)\n",
    "b = rndm.uniform(size=n)\n",
    "A"
   ]
  },
  {
   "cell_type": "code",
   "execution_count": 356,
   "metadata": {},
   "outputs": [],
   "source": [
    "x = np.linalg.solve(A, b)"
   ]
  },
  {
   "cell_type": "code",
   "execution_count": 357,
   "metadata": {
    "scrolled": true
   },
   "outputs": [
    {
     "data": {
      "image/png": "[encoded data removed]",
      "text/plain": [
       "<Figure size 432x288 with 1 Axes>"
      ]
     },
     "metadata": {
      "needs_background": "light"
     },
     "output_type": "display_data"
    }
   ],
   "source": [
    "xxx = [i for i in range(5)]\n",
    "import matplotlib.pyplot as plt\n",
    "plt.figure()\n",
    "plt.plot(xxx,[np.linalg.norm(f2(A,b,x1,i) - x) for i in xxx])\n",
    "plt.title('График зависимости разности норм у решения и найденного решения от количества итераций')\n",
    "plt.ylabel('Разность норм')\n",
    "plt.xlabel('Количество итераций')\n",
    "plt.show()"
   ]
  },
  {
   "cell_type": "markdown",
   "metadata": {},
   "source": [
    "Как мы видели при такой ситуации, когда у матрицы A диагональные элементы доминируют будет сходимость и видим, что после 2 итераций уже почти ничего не меняется.\n"
   ]
  },
  {
   "cell_type": "markdown",
   "metadata": {},
   "source": [
    "Посмотрим, что будет для другой матрицы"
   ]
  },
  {
   "cell_type": "markdown",
   "metadata": {},
   "source": [
    "Для этого найдем \"истинное\" решение этой системы, и посмотрим, что будет, когда будем приближать нашим методом"
   ]
  },
  {
   "cell_type": "code",
   "execution_count": 358,
   "metadata": {
    "scrolled": true
   },
   "outputs": [
    {
     "data": {
      "text/plain": [
       "array([[0.01      , 0.90008784, 0.7791638 , 0.59915478, 0.29112524],\n",
       "       [0.15139526, 0.01      , 0.65755178, 0.07334254, 0.0550064 ],\n",
       "       [0.32319481, 0.5904818 , 0.01      , 0.28706243, 0.17306723],\n",
       "       [0.13402121, 0.99465383, 0.17949787, 0.01      , 0.5682914 ],\n",
       "       [0.00934857, 0.90064862, 0.97724143, 0.55689468, 0.01      ]])"
      ]
     },
     "execution_count": 358,
     "metadata": {},
     "output_type": "execute_result"
    }
   ],
   "source": [
    "np.fill_diagonal(A, 1e-2)\n",
    "A"
   ]
  },
  {
   "cell_type": "code",
   "execution_count": 361,
   "metadata": {},
   "outputs": [],
   "source": [
    "x = np.linalg.solve(A, b)"
   ]
  },
  {
   "cell_type": "code",
   "execution_count": 362,
   "metadata": {},
   "outputs": [
    {
     "data": {
      "image/png": "[encoded data removed]",
      "text/plain": [
       "<Figure size 432x288 with 1 Axes>"
      ]
     },
     "metadata": {
      "needs_background": "light"
     },
     "output_type": "display_data"
    }
   ],
   "source": [
    "xxx = [i for i in range(2)]\n",
    "import matplotlib.pyplot as plt\n",
    "plt.figure()\n",
    "plt.plot(xxx,[np.linalg.norm(f2(A,b,x1,i) - x) for i in xxx])\n",
    "#plt.title('График зависимости разности норм у решения и найденного решения от количества итераций')\n",
    "plt.ylabel('Разность норм')\n",
    "plt.xlabel('Количество итераций')\n",
    "plt.show()"
   ]
  },
  {
   "cell_type": "markdown",
   "metadata": {},
   "source": [
    "Как видно, даже при одной итерации разница так быстро растет, что достигает порядка 1е9. Это происходит из-за того, что норма нашей BB больше 1 из-за чего наше решение будет быстро расходиться. "
   ]
  },
  {
   "cell_type": "code",
   "execution_count": 363,
   "metadata": {},
   "outputs": [
    {
     "data": {
      "image/png": "[encoded data removed]",
      "text/plain": [
       "<Figure size 432x288 with 1 Axes>"
      ]
     },
     "metadata": {
      "needs_background": "light"
     },
     "output_type": "display_data"
    }
   ],
   "source": [
    "xxx = [i for i in range(3)]\n",
    "import matplotlib.pyplot as plt\n",
    "plt.figure()\n",
    "plt.plot(xxx,[np.linalg.norm(f2(A,b,x1,i) - x) for i in xxx])\n",
    "#plt.title('График зависимости разности норм у решения и найденного решения от количества итераций')\n",
    "plt.ylabel('Разность норм')\n",
    "plt.xlabel('Количество итераций')\n",
    "plt.show()"
   ]
  },
  {
   "cell_type": "markdown",
   "metadata": {},
   "source": [
    "А тут уже 2 итерации произошло, и видно, как сильно выросла разница в нормах, то есть если диагональные элементы будут одного порядка по сравнению с остальными, то такой способ вообще не убдет работать, потому что даже при очень маленьком количестве итераций будет сильно расходиться решение."
   ]
  },
  {
   "cell_type": "markdown",
   "metadata": {},
   "source": [
    "# III. Minimum residual scheme"
   ]
  },
  {
   "cell_type": "markdown",
   "metadata": {},
   "source": [
    "### Task III.1\n",
    "\n",
    "Implement the $\\textit{minimum residual}$ scheme: an explicit non-stationary method, where at each step you select the iteration parameter $\\tau_n$ to minimize the residual $\\mathbf{r}_{n+1}$ given $\\mathbf{r}_n$. Test it on a random matrix, study the convergence to the solution, in terms of the norm of the residual and the deviation from the ground truth solution (which you can obtain using a direct method). Study how the iteration parameter $\\tau_n$ changes as iterations progress.\n",
    "\n",
    "(50% of the grade)"
   ]
  },
  {
   "cell_type": "code",
   "execution_count": null,
   "metadata": {
    "collapsed": true
   },
   "outputs": [],
   "source": [
    "# ... ENTER YOUR CODE HERE ..."
   ]
  }
 ],
 "metadata": {
  "kernelspec": {
   "display_name": "Python 3",
   "language": "python",
   "name": "python3"
  },
  "language_info": {
   "codemirror_mode": {
    "name": "ipython",
    "version": 3
   },
   "file_extension": ".py",
   "mimetype": "text/x-python",
   "name": "python",
   "nbconvert_exporter": "python",
   "pygments_lexer": "ipython3",
   "version": "3.7.3"
  }
 },
 "nbformat": 4,
 "nbformat_minor": 2
}
